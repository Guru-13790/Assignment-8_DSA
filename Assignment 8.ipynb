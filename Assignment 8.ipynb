{
 "cells": [
  {
   "cell_type": "code",
   "execution_count": 1,
   "id": "e927a5b8-8186-4b38-b5b3-4395d019f118",
   "metadata": {},
   "outputs": [
    {
     "name": "stdout",
     "output_type": "stream",
     "text": [
      "[1, 2, 5, 6, 8]\n"
     ]
    }
   ],
   "source": [
    "def insertion_sort(array):\n",
    "    \"\"\"\n",
    "    Sort the array using the Insertion sort algorithm\n",
    "    \n",
    "    Parameters:\n",
    "    - array: The array to be sorted\n",
    "    \n",
    "    Returns: Nothing. The array is sorted in-place.\n",
    "    \"\"\"\n",
    "    for i in range(1, len(array)):\n",
    "        key = array[i]\n",
    "        j = i - 1\n",
    "        # Shift elements of array[0..i-1], that are greater than key, \n",
    "        # one position to the right\n",
    "        while j >= 0 and array[j] > key:\n",
    "            array[j + 1] = array[j]\n",
    "            j -= 1\n",
    "        array[j + 1] = key\n",
    "\n",
    "# Example usage\n",
    "array = [6, 8, 5, 1, 2]\n",
    "insertion_sort(array)\n",
    "print(array)  # Output: [1, 2, 5, 6, 8]\n"
   ]
  },
  {
   "cell_type": "code",
   "execution_count": null,
   "id": "66d9fb60-17b7-4c6d-af83-c4c6bce96cb1",
   "metadata": {},
   "outputs": [],
   "source": []
  }
 ],
 "metadata": {
  "kernelspec": {
   "display_name": "Python 3 (ipykernel)",
   "language": "python",
   "name": "python3"
  },
  "language_info": {
   "codemirror_mode": {
    "name": "ipython",
    "version": 3
   },
   "file_extension": ".py",
   "mimetype": "text/x-python",
   "name": "python",
   "nbconvert_exporter": "python",
   "pygments_lexer": "ipython3",
   "version": "3.12.7"
  }
 },
 "nbformat": 4,
 "nbformat_minor": 5
}
